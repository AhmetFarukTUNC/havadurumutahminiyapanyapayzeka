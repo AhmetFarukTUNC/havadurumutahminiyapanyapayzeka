{
 "cells": [
  {
   "cell_type": "markdown",
   "id": "2667a892",
   "metadata": {},
   "source": [
    "# 1.)Veri ön işleme"
   ]
  },
  {
   "cell_type": "markdown",
   "id": "4ec60de4",
   "metadata": {},
   "source": [
    "# Veri setimizin görüntülenmesi"
   ]
  },
  {
   "cell_type": "code",
   "execution_count": 42,
   "id": "f1692a39",
   "metadata": {
    "papermill": {
     "duration": 0.008667,
     "end_time": "2023-10-10T12:26:12.211976",
     "exception": false,
     "start_time": "2023-10-10T12:26:12.203309",
     "status": "completed"
    },
    "tags": []
   },
   "outputs": [
    {
     "data": {
      "text/html": [
       "<div>\n",
       "<style scoped>\n",
       "    .dataframe tbody tr th:only-of-type {\n",
       "        vertical-align: middle;\n",
       "    }\n",
       "\n",
       "    .dataframe tbody tr th {\n",
       "        vertical-align: top;\n",
       "    }\n",
       "\n",
       "    .dataframe thead th {\n",
       "        text-align: right;\n",
       "    }\n",
       "</style>\n",
       "<table border=\"1\" class=\"dataframe\">\n",
       "  <thead>\n",
       "    <tr style=\"text-align: right;\">\n",
       "      <th></th>\n",
       "      <th>date</th>\n",
       "      <th>precipitation</th>\n",
       "      <th>temp_max</th>\n",
       "      <th>temp_min</th>\n",
       "      <th>wind</th>\n",
       "      <th>weather</th>\n",
       "    </tr>\n",
       "  </thead>\n",
       "  <tbody>\n",
       "    <tr>\n",
       "      <th>0</th>\n",
       "      <td>2012-01-01</td>\n",
       "      <td>0.0</td>\n",
       "      <td>12.8</td>\n",
       "      <td>5.0</td>\n",
       "      <td>4.7</td>\n",
       "      <td>drizzle</td>\n",
       "    </tr>\n",
       "    <tr>\n",
       "      <th>1</th>\n",
       "      <td>2012-01-02</td>\n",
       "      <td>10.9</td>\n",
       "      <td>10.6</td>\n",
       "      <td>2.8</td>\n",
       "      <td>4.5</td>\n",
       "      <td>rain</td>\n",
       "    </tr>\n",
       "    <tr>\n",
       "      <th>2</th>\n",
       "      <td>2012-01-03</td>\n",
       "      <td>0.8</td>\n",
       "      <td>11.7</td>\n",
       "      <td>7.2</td>\n",
       "      <td>2.3</td>\n",
       "      <td>rain</td>\n",
       "    </tr>\n",
       "    <tr>\n",
       "      <th>3</th>\n",
       "      <td>2012-01-04</td>\n",
       "      <td>20.3</td>\n",
       "      <td>12.2</td>\n",
       "      <td>5.6</td>\n",
       "      <td>4.7</td>\n",
       "      <td>rain</td>\n",
       "    </tr>\n",
       "    <tr>\n",
       "      <th>4</th>\n",
       "      <td>2012-01-05</td>\n",
       "      <td>1.3</td>\n",
       "      <td>8.9</td>\n",
       "      <td>2.8</td>\n",
       "      <td>6.1</td>\n",
       "      <td>rain</td>\n",
       "    </tr>\n",
       "    <tr>\n",
       "      <th>...</th>\n",
       "      <td>...</td>\n",
       "      <td>...</td>\n",
       "      <td>...</td>\n",
       "      <td>...</td>\n",
       "      <td>...</td>\n",
       "      <td>...</td>\n",
       "    </tr>\n",
       "    <tr>\n",
       "      <th>1456</th>\n",
       "      <td>2015-12-27</td>\n",
       "      <td>8.6</td>\n",
       "      <td>4.4</td>\n",
       "      <td>1.7</td>\n",
       "      <td>2.9</td>\n",
       "      <td>rain</td>\n",
       "    </tr>\n",
       "    <tr>\n",
       "      <th>1457</th>\n",
       "      <td>2015-12-28</td>\n",
       "      <td>1.5</td>\n",
       "      <td>5.0</td>\n",
       "      <td>1.7</td>\n",
       "      <td>1.3</td>\n",
       "      <td>rain</td>\n",
       "    </tr>\n",
       "    <tr>\n",
       "      <th>1458</th>\n",
       "      <td>2015-12-29</td>\n",
       "      <td>0.0</td>\n",
       "      <td>7.2</td>\n",
       "      <td>0.6</td>\n",
       "      <td>2.6</td>\n",
       "      <td>fog</td>\n",
       "    </tr>\n",
       "    <tr>\n",
       "      <th>1459</th>\n",
       "      <td>2015-12-30</td>\n",
       "      <td>0.0</td>\n",
       "      <td>5.6</td>\n",
       "      <td>-1.0</td>\n",
       "      <td>3.4</td>\n",
       "      <td>sun</td>\n",
       "    </tr>\n",
       "    <tr>\n",
       "      <th>1460</th>\n",
       "      <td>2015-12-31</td>\n",
       "      <td>0.0</td>\n",
       "      <td>5.6</td>\n",
       "      <td>-2.1</td>\n",
       "      <td>3.5</td>\n",
       "      <td>sun</td>\n",
       "    </tr>\n",
       "  </tbody>\n",
       "</table>\n",
       "<p>1461 rows × 6 columns</p>\n",
       "</div>"
      ],
      "text/plain": [
       "            date  precipitation  temp_max  temp_min  wind  weather\n",
       "0     2012-01-01            0.0      12.8       5.0   4.7  drizzle\n",
       "1     2012-01-02           10.9      10.6       2.8   4.5     rain\n",
       "2     2012-01-03            0.8      11.7       7.2   2.3     rain\n",
       "3     2012-01-04           20.3      12.2       5.6   4.7     rain\n",
       "4     2012-01-05            1.3       8.9       2.8   6.1     rain\n",
       "...          ...            ...       ...       ...   ...      ...\n",
       "1456  2015-12-27            8.6       4.4       1.7   2.9     rain\n",
       "1457  2015-12-28            1.5       5.0       1.7   1.3     rain\n",
       "1458  2015-12-29            0.0       7.2       0.6   2.6      fog\n",
       "1459  2015-12-30            0.0       5.6      -1.0   3.4      sun\n",
       "1460  2015-12-31            0.0       5.6      -2.1   3.5      sun\n",
       "\n",
       "[1461 rows x 6 columns]"
      ]
     },
     "execution_count": 42,
     "metadata": {},
     "output_type": "execute_result"
    }
   ],
   "source": [
    "# veri isleme(preprocessing)\n",
    "\n",
    "import pandas as pd\n",
    "\n",
    "# Var olan veri setini yükleme\n",
    "\n",
    "dosyauzantisi = r\"havadurumuveriseti.csv\"\n",
    "\n",
    "# Veri setinin okunup weather_data isimli değişkene atanması\n",
    "\n",
    "weather_data = pd.read_csv(dosyauzantisi)\n",
    "\n",
    "\n",
    "\n",
    "weather_data\n"
   ]
  },
  {
   "cell_type": "markdown",
   "id": "440d3acf",
   "metadata": {},
   "source": [
    "# Veri setimizin veri sayısı ve niteliğinin paylaşılması"
   ]
  },
  {
   "cell_type": "code",
   "execution_count": 43,
   "id": "eef053b9",
   "metadata": {},
   "outputs": [
    {
     "name": "stdout",
     "output_type": "stream",
     "text": [
      "Veri setinde 1461 veri ve 6 nitelik bulunmaktadır.\n"
     ]
    }
   ],
   "source": [
    "print(f\"Veri setinde {weather_data.shape[0]} veri ve {weather_data.shape[1]} nitelik bulunmaktadır.\")"
   ]
  },
  {
   "cell_type": "markdown",
   "id": "a4da2fcb",
   "metadata": {},
   "source": [
    "# Label encoder sınıfı ile weather altındaki kategorik verileri sayısal etiketlere dönüştürme"
   ]
  },
  {
   "cell_type": "markdown",
   "id": "6af45a53",
   "metadata": {},
   "source": [
    "# LabelEncoder, kategorik verileri sayısal etiketlere dönüştüren bir sınıftır. fit_transform metodu, iki adımı birleştirir:\n",
    "\n",
    "# Fit (Öğrenme): Kategorik verilerdeki benzersiz değerleri öğrenir ve her bir benzersiz değere bir sayısal etiket atar.\n",
    "# Transform (Dönüşüm): Kategorik verileri, öğrenilen bu sayısal etiketlerle değiştirir."
   ]
  },
  {
   "cell_type": "code",
   "execution_count": 44,
   "id": "8bbc88b2",
   "metadata": {},
   "outputs": [
    {
     "name": "stdout",
     "output_type": "stream",
     "text": [
      "Dönüştürülmüş veri:\n"
     ]
    },
    {
     "data": {
      "text/html": [
       "<div>\n",
       "<style scoped>\n",
       "    .dataframe tbody tr th:only-of-type {\n",
       "        vertical-align: middle;\n",
       "    }\n",
       "\n",
       "    .dataframe tbody tr th {\n",
       "        vertical-align: top;\n",
       "    }\n",
       "\n",
       "    .dataframe thead th {\n",
       "        text-align: right;\n",
       "    }\n",
       "</style>\n",
       "<table border=\"1\" class=\"dataframe\">\n",
       "  <thead>\n",
       "    <tr style=\"text-align: right;\">\n",
       "      <th></th>\n",
       "      <th>precipitation</th>\n",
       "      <th>temp_max</th>\n",
       "      <th>temp_min</th>\n",
       "      <th>wind</th>\n",
       "      <th>weather</th>\n",
       "    </tr>\n",
       "  </thead>\n",
       "  <tbody>\n",
       "    <tr>\n",
       "      <th>0</th>\n",
       "      <td>0.0</td>\n",
       "      <td>12.8</td>\n",
       "      <td>5.0</td>\n",
       "      <td>4.7</td>\n",
       "      <td>0</td>\n",
       "    </tr>\n",
       "    <tr>\n",
       "      <th>1</th>\n",
       "      <td>10.9</td>\n",
       "      <td>10.6</td>\n",
       "      <td>2.8</td>\n",
       "      <td>4.5</td>\n",
       "      <td>2</td>\n",
       "    </tr>\n",
       "    <tr>\n",
       "      <th>2</th>\n",
       "      <td>0.8</td>\n",
       "      <td>11.7</td>\n",
       "      <td>7.2</td>\n",
       "      <td>2.3</td>\n",
       "      <td>2</td>\n",
       "    </tr>\n",
       "    <tr>\n",
       "      <th>3</th>\n",
       "      <td>20.3</td>\n",
       "      <td>12.2</td>\n",
       "      <td>5.6</td>\n",
       "      <td>4.7</td>\n",
       "      <td>2</td>\n",
       "    </tr>\n",
       "    <tr>\n",
       "      <th>4</th>\n",
       "      <td>1.3</td>\n",
       "      <td>8.9</td>\n",
       "      <td>2.8</td>\n",
       "      <td>6.1</td>\n",
       "      <td>2</td>\n",
       "    </tr>\n",
       "    <tr>\n",
       "      <th>...</th>\n",
       "      <td>...</td>\n",
       "      <td>...</td>\n",
       "      <td>...</td>\n",
       "      <td>...</td>\n",
       "      <td>...</td>\n",
       "    </tr>\n",
       "    <tr>\n",
       "      <th>1456</th>\n",
       "      <td>8.6</td>\n",
       "      <td>4.4</td>\n",
       "      <td>1.7</td>\n",
       "      <td>2.9</td>\n",
       "      <td>2</td>\n",
       "    </tr>\n",
       "    <tr>\n",
       "      <th>1457</th>\n",
       "      <td>1.5</td>\n",
       "      <td>5.0</td>\n",
       "      <td>1.7</td>\n",
       "      <td>1.3</td>\n",
       "      <td>2</td>\n",
       "    </tr>\n",
       "    <tr>\n",
       "      <th>1458</th>\n",
       "      <td>0.0</td>\n",
       "      <td>7.2</td>\n",
       "      <td>0.6</td>\n",
       "      <td>2.6</td>\n",
       "      <td>1</td>\n",
       "    </tr>\n",
       "    <tr>\n",
       "      <th>1459</th>\n",
       "      <td>0.0</td>\n",
       "      <td>5.6</td>\n",
       "      <td>-1.0</td>\n",
       "      <td>3.4</td>\n",
       "      <td>4</td>\n",
       "    </tr>\n",
       "    <tr>\n",
       "      <th>1460</th>\n",
       "      <td>0.0</td>\n",
       "      <td>5.6</td>\n",
       "      <td>-2.1</td>\n",
       "      <td>3.5</td>\n",
       "      <td>4</td>\n",
       "    </tr>\n",
       "  </tbody>\n",
       "</table>\n",
       "<p>1461 rows × 5 columns</p>\n",
       "</div>"
      ],
      "text/plain": [
       "      precipitation  temp_max  temp_min  wind  weather\n",
       "0               0.0      12.8       5.0   4.7        0\n",
       "1              10.9      10.6       2.8   4.5        2\n",
       "2               0.8      11.7       7.2   2.3        2\n",
       "3              20.3      12.2       5.6   4.7        2\n",
       "4               1.3       8.9       2.8   6.1        2\n",
       "...             ...       ...       ...   ...      ...\n",
       "1456            8.6       4.4       1.7   2.9        2\n",
       "1457            1.5       5.0       1.7   1.3        2\n",
       "1458            0.0       7.2       0.6   2.6        1\n",
       "1459            0.0       5.6      -1.0   3.4        4\n",
       "1460            0.0       5.6      -2.1   3.5        4\n",
       "\n",
       "[1461 rows x 5 columns]"
      ]
     },
     "execution_count": 44,
     "metadata": {},
     "output_type": "execute_result"
    }
   ],
   "source": [
    "from sklearn.preprocessing import LabelEncoder\n",
    "\n",
    "# Veri setindeki tarih kolonunun silinmesi\n",
    "\n",
    "weather_data = weather_data.drop(columns=[\"date\"])\n",
    "\n",
    "# LabelEncoder nesnesi oluşturma\n",
    "label_encoder = LabelEncoder()\n",
    "\n",
    "# Kategorik sütunu sayısal değerlere dönüştürme\n",
    "\n",
    "weather_data['weather'] = label_encoder.fit_transform(weather_data['weather'])\n",
    "\n",
    "print(\"Dönüştürülmüş veri:\")\n",
    "weather_data\n"
   ]
  },
  {
   "cell_type": "markdown",
   "id": "96703edb",
   "metadata": {},
   "source": [
    "# Hangi sayının hangi kategorik veriye karşılık geldiğinin bulunması"
   ]
  },
  {
   "cell_type": "markdown",
   "id": "0ce36b83",
   "metadata": {},
   "source": [
    "# Şu ana kadar kategorik verilerimizi sayısallaştırdık ve min-max optimizasyonu ile veri optimizasyonu işlemlerini yaptık.Son olarak kafanızın karışmaması için tekrardan bizim weather niteliği altındaki numeric etiketlerin kategorik karşılıklarını yazdıralım."
   ]
  },
  {
   "cell_type": "code",
   "execution_count": 45,
   "id": "55198a20",
   "metadata": {},
   "outputs": [
    {
     "name": "stdout",
     "output_type": "stream",
     "text": [
      "0 değerine sahip olan sayısal etiket, 'drizzle' kategorik etikete aittir.\n",
      "2 değerine sahip olan sayısal etiket, 'fog' kategorik etikete aittir.\n",
      "4 değerine sahip olan sayısal etiket, 'rain' kategorik etikete aittir.\n",
      "3 değerine sahip olan sayısal etiket, 'snow' kategorik etikete aittir.\n",
      "1 değerine sahip olan sayısal etiket, 'sun' kategorik etikete aittir.\n"
     ]
    }
   ],
   "source": [
    "# Bir sayısal etiketin hangi kategorik etikete ait olduğunu bulma\n",
    "\n",
    "# Weather niteliği altındaki eşsiz olan tüm değerleri aldık.\n",
    "\n",
    "essizolandegeler = weather_data['weather'].unique()\n",
    "\n",
    "for i in range(5):\n",
    "\n",
    "    \n",
    "\n",
    "    categorical_label = label_encoder.inverse_transform([i])[0]\n",
    "\n",
    "    \n",
    "\n",
    "\n",
    "    print(f\"{essizolandegeler[i]} değerine sahip olan sayısal etiket, '{categorical_label}' kategorik etikete aittir.\")\n",
    "\n",
    "\n",
    "\n"
   ]
  },
  {
   "cell_type": "markdown",
   "id": "0b30e9f2",
   "metadata": {},
   "source": [
    "# Tüm niteliklerdeki aykırı verilerin bulunması."
   ]
  },
  {
   "cell_type": "code",
   "execution_count": 46,
   "id": "17c54276",
   "metadata": {},
   "outputs": [
    {
     "name": "stdout",
     "output_type": "stream",
     "text": [
      "precipitation sütununda aykırı değerler:\n",
      "      precipitation  temp_max  temp_min  wind  weather\n",
      "1              10.9      10.6       2.8   4.5        2\n",
      "3              20.3      12.2       5.6   4.7        2\n",
      "16              8.1       3.3       0.0   5.6        3\n",
      "17             19.8       0.0      -2.8   5.0        3\n",
      "18             15.2      -1.1      -2.8   1.6        3\n",
      "...             ...       ...       ...   ...      ...\n",
      "1441           16.0       8.9       5.6   5.6        2\n",
      "1446           21.8       6.7       3.9   6.0        2\n",
      "1447           18.5       8.9       4.4   5.1        2\n",
      "1450           27.4       5.6       2.8   4.3        2\n",
      "1456            8.6       4.4       1.7   2.9        2\n",
      "\n",
      "[206 rows x 5 columns]\n",
      "\n",
      "temp_max sütununda aykırı değer yok.\n",
      "temp_min sütununda aykırı değer yok.\n",
      "wind sütununda aykırı değerler:\n",
      "      precipitation  temp_max  temp_min  wind  weather\n",
      "20              3.0       8.3       3.3   8.2        2\n",
      "48              6.4       6.7       3.9   8.1        2\n",
      "51              0.8      10.0       7.8   7.5        2\n",
      "59              0.8       5.0       1.1   7.0        3\n",
      "62              0.0      12.2       6.7   7.0        4\n",
      "91              1.5       8.9       4.4   6.8        2\n",
      "120             4.3      12.8       7.2   8.0        2\n",
      "276             0.0      18.9       7.8   7.3        4\n",
      "351             2.0       8.3       1.7   9.5        2\n",
      "372             2.3      10.0       4.4   7.3        2\n",
      "418             9.4       7.8       3.9   8.1        2\n",
      "421             2.3      10.6       3.3   7.1        2\n",
      "444             9.9      11.1       4.4   7.6        2\n",
      "637            16.8      14.4      11.1   7.1        2\n",
      "671            12.7      14.4       8.3   7.9        2\n",
      "676            30.0      11.1      10.0   7.2        2\n",
      "700             3.0      13.3       7.8   8.8        2\n",
      "740             4.3      12.8       8.3   7.0        2\n",
      "741            21.3      14.4       7.2   8.8        2\n",
      "742             1.5      11.1       5.6   8.1        2\n",
      "743             0.0      10.6      10.0   7.1        4\n",
      "777            26.4       9.4       3.9   7.9        2\n",
      "781             3.0      10.0       5.6   6.9        2\n",
      "1040            4.1      16.7      10.6   6.7        2\n",
      "1045            0.0       7.8       1.1   7.7        4\n",
      "1046            0.0       6.7       0.0   7.6        4\n",
      "1074           13.0      18.9      10.0   6.7        2\n",
      "1358            4.1      22.8      12.2   6.8        2\n",
      "1398           19.3      17.2      11.7   6.7        2\n",
      "1399           33.0      15.6      11.7   7.2        2\n",
      "1416           29.5      13.3       6.7   8.0        2\n",
      "1439            9.4      11.7       6.1   7.5        2\n",
      "1449            4.3       7.8       4.4   6.7        2\n",
      "1452            6.1       5.0       2.8   7.6        2\n",
      "\n",
      "weather sütununda aykırı değer yok.\n"
     ]
    }
   ],
   "source": [
    "import pandas as pd\n",
    "\n",
    "\n",
    "\n",
    "# Aykırı değerleri tespit etme fonksiyonu\n",
    "def aykiridegerleribul(dataframe, nitelik):\n",
    "    ceyrek1 = dataframe[nitelik].quantile(0.25)\n",
    "    ceyrek3 = dataframe[nitelik].quantile(0.75)\n",
    "    ceyreklerarasifark = ceyrek3 - ceyrek1\n",
    "    altsinir = ceyrek1 - (1.5 * ceyreklerarasifark)\n",
    "    ustsinir = ceyrek3 + (1.5 * ceyreklerarasifark)\n",
    "    aykiridegerler = dataframe[(dataframe[nitelik] < altsinir) | (dataframe[nitelik] > ustsinir)]\n",
    "    return aykiridegerler\n",
    "    \n",
    "\n",
    "# Her sütun için aykırı değerleri bulma\n",
    "\n",
    "for nitelik in weather_data.columns:\n",
    "    aykiridegerler = aykiridegerleribul(weather_data, nitelik)\n",
    "    if not aykiridegerler.empty:\n",
    "        print(f\"{nitelik} sütununda aykırı değerler:\")\n",
    "        print(aykiridegerler)\n",
    "        print()\n",
    "        \n",
    "        \n",
    "    else:\n",
    "        print(f\"{nitelik} sütununda aykırı değer yok.\")\n",
    "\n",
    "    \n",
    "\n",
    "\n"
   ]
  },
  {
   "cell_type": "markdown",
   "id": "e672d389",
   "metadata": {},
   "source": [
    "# Boş değer olup olmadığı'nın kontrol edilmesi"
   ]
  },
  {
   "cell_type": "code",
   "execution_count": 47,
   "id": "a8de4155",
   "metadata": {
    "execution": {
     "iopub.execute_input": "2023-10-10T12:26:12.445908Z",
     "iopub.status.busy": "2023-10-10T12:26:12.445117Z",
     "iopub.status.idle": "2023-10-10T12:26:12.472787Z",
     "shell.execute_reply": "2023-10-10T12:26:12.471735Z"
    },
    "papermill": {
     "duration": 0.040007,
     "end_time": "2023-10-10T12:26:12.474892",
     "exception": false,
     "start_time": "2023-10-10T12:26:12.434885",
     "status": "completed"
    },
    "tags": []
   },
   "outputs": [
    {
     "name": "stdout",
     "output_type": "stream",
     "text": [
      "Veri setinde boş veri yok.\n"
     ]
    }
   ],
   "source": [
    "# Boş verileri kontrol etme\n",
    "if weather_data.isnull().any().any():\n",
    "    print(\"Veri setinde boş veriler var.\")\n",
    "else:\n",
    "    print(\"Veri setinde boş veri yok.\")"
   ]
  },
  {
   "cell_type": "markdown",
   "id": "e7066f70",
   "metadata": {
    "papermill": {
     "duration": 0.008995,
     "end_time": "2023-10-10T12:26:12.493185",
     "exception": false,
     "start_time": "2023-10-10T12:26:12.484190",
     "status": "completed"
    },
    "tags": []
   },
   "source": [
    "#  Verimize ait bilgilerin gösterilmesi"
   ]
  },
  {
   "cell_type": "code",
   "execution_count": 48,
   "id": "c2c9e67f",
   "metadata": {
    "execution": {
     "iopub.execute_input": "2023-10-10T12:26:12.570336Z",
     "iopub.status.busy": "2023-10-10T12:26:12.569609Z",
     "iopub.status.idle": "2023-10-10T12:26:12.595781Z",
     "shell.execute_reply": "2023-10-10T12:26:12.595071Z"
    },
    "papermill": {
     "duration": 0.038848,
     "end_time": "2023-10-10T12:26:12.597644",
     "exception": false,
     "start_time": "2023-10-10T12:26:12.558796",
     "status": "completed"
    },
    "tags": []
   },
   "outputs": [
    {
     "data": {
      "text/html": [
       "<div>\n",
       "<style scoped>\n",
       "    .dataframe tbody tr th:only-of-type {\n",
       "        vertical-align: middle;\n",
       "    }\n",
       "\n",
       "    .dataframe tbody tr th {\n",
       "        vertical-align: top;\n",
       "    }\n",
       "\n",
       "    .dataframe thead th {\n",
       "        text-align: right;\n",
       "    }\n",
       "</style>\n",
       "<table border=\"1\" class=\"dataframe\">\n",
       "  <thead>\n",
       "    <tr style=\"text-align: right;\">\n",
       "      <th></th>\n",
       "      <th>precipitation</th>\n",
       "      <th>temp_max</th>\n",
       "      <th>temp_min</th>\n",
       "      <th>wind</th>\n",
       "      <th>weather</th>\n",
       "    </tr>\n",
       "  </thead>\n",
       "  <tbody>\n",
       "    <tr>\n",
       "      <th>count</th>\n",
       "      <td>1461.000000</td>\n",
       "      <td>1461.000000</td>\n",
       "      <td>1461.000000</td>\n",
       "      <td>1461.000000</td>\n",
       "      <td>1461.000000</td>\n",
       "    </tr>\n",
       "    <tr>\n",
       "      <th>mean</th>\n",
       "      <td>3.029432</td>\n",
       "      <td>16.439083</td>\n",
       "      <td>8.234771</td>\n",
       "      <td>3.241136</td>\n",
       "      <td>2.752225</td>\n",
       "    </tr>\n",
       "    <tr>\n",
       "      <th>std</th>\n",
       "      <td>6.680194</td>\n",
       "      <td>7.349758</td>\n",
       "      <td>5.023004</td>\n",
       "      <td>1.437825</td>\n",
       "      <td>1.191380</td>\n",
       "    </tr>\n",
       "    <tr>\n",
       "      <th>min</th>\n",
       "      <td>0.000000</td>\n",
       "      <td>-1.600000</td>\n",
       "      <td>-7.100000</td>\n",
       "      <td>0.400000</td>\n",
       "      <td>0.000000</td>\n",
       "    </tr>\n",
       "    <tr>\n",
       "      <th>25%</th>\n",
       "      <td>0.000000</td>\n",
       "      <td>10.600000</td>\n",
       "      <td>4.400000</td>\n",
       "      <td>2.200000</td>\n",
       "      <td>2.000000</td>\n",
       "    </tr>\n",
       "    <tr>\n",
       "      <th>50%</th>\n",
       "      <td>0.000000</td>\n",
       "      <td>15.600000</td>\n",
       "      <td>8.300000</td>\n",
       "      <td>3.000000</td>\n",
       "      <td>2.000000</td>\n",
       "    </tr>\n",
       "    <tr>\n",
       "      <th>75%</th>\n",
       "      <td>2.800000</td>\n",
       "      <td>22.200000</td>\n",
       "      <td>12.200000</td>\n",
       "      <td>4.000000</td>\n",
       "      <td>4.000000</td>\n",
       "    </tr>\n",
       "    <tr>\n",
       "      <th>max</th>\n",
       "      <td>55.900000</td>\n",
       "      <td>35.600000</td>\n",
       "      <td>18.300000</td>\n",
       "      <td>9.500000</td>\n",
       "      <td>4.000000</td>\n",
       "    </tr>\n",
       "  </tbody>\n",
       "</table>\n",
       "</div>"
      ],
      "text/plain": [
       "       precipitation     temp_max     temp_min         wind      weather\n",
       "count    1461.000000  1461.000000  1461.000000  1461.000000  1461.000000\n",
       "mean        3.029432    16.439083     8.234771     3.241136     2.752225\n",
       "std         6.680194     7.349758     5.023004     1.437825     1.191380\n",
       "min         0.000000    -1.600000    -7.100000     0.400000     0.000000\n",
       "25%         0.000000    10.600000     4.400000     2.200000     2.000000\n",
       "50%         0.000000    15.600000     8.300000     3.000000     2.000000\n",
       "75%         2.800000    22.200000    12.200000     4.000000     4.000000\n",
       "max        55.900000    35.600000    18.300000     9.500000     4.000000"
      ]
     },
     "execution_count": 48,
     "metadata": {},
     "output_type": "execute_result"
    }
   ],
   "source": [
    "weather_data.describe()"
   ]
  },
  {
   "cell_type": "markdown",
   "id": "41c80e8a",
   "metadata": {},
   "source": [
    "# Kaç tane tekrarlı veri olduğunu bulur.\n"
   ]
  },
  {
   "cell_type": "code",
   "execution_count": 49,
   "id": "61edc7d3",
   "metadata": {
    "execution": {
     "iopub.execute_input": "2023-10-10T12:26:12.688130Z",
     "iopub.status.busy": "2023-10-10T12:26:12.687505Z",
     "iopub.status.idle": "2023-10-10T12:26:12.700563Z",
     "shell.execute_reply": "2023-10-10T12:26:12.699702Z"
    },
    "papermill": {
     "duration": 0.026266,
     "end_time": "2023-10-10T12:26:12.702642",
     "exception": false,
     "start_time": "2023-10-10T12:26:12.676376",
     "status": "completed"
    },
    "tags": []
   },
   "outputs": [
    {
     "name": "stdout",
     "output_type": "stream",
     "text": [
      "Tekrarlı veri bulunmamaktadır.\n",
      "Tekrarsız veri : \n",
      "      precipitation  temp_max  temp_min  wind  weather\n",
      "0               0.0      12.8       5.0   4.7        0\n",
      "1              10.9      10.6       2.8   4.5        2\n",
      "2               0.8      11.7       7.2   2.3        2\n",
      "3              20.3      12.2       5.6   4.7        2\n",
      "4               1.3       8.9       2.8   6.1        2\n",
      "...             ...       ...       ...   ...      ...\n",
      "1456            8.6       4.4       1.7   2.9        2\n",
      "1457            1.5       5.0       1.7   1.3        2\n",
      "1458            0.0       7.2       0.6   2.6        1\n",
      "1459            0.0       5.6      -1.0   3.4        4\n",
      "1460            0.0       5.6      -2.1   3.5        4\n",
      "\n",
      "[1461 rows x 5 columns]\n"
     ]
    }
   ],
   "source": [
    "# Veri tekrarı kontrolu\n",
    "if(weather_data.duplicated().any()):\n",
    "    print(\"Tekrarlı veri bulunmamaktadır.\")\n",
    "    print(\"Tekrarsız veri : \")\n",
    "    tekrarsızveri = weather_data\n",
    "    print(tekrarsızveri)\n",
    "\n",
    "else:\n",
    "    # Tekrarlı satırları kaldırma\n",
    "    tekrarsızveri = weather_data.drop_duplicates()\n",
    "    print(\"Tekrarlı veriler kaldırıldı\")\n",
    "    print(tekrarsızveri)\n"
   ]
  },
  {
   "cell_type": "markdown",
   "id": "e8173661",
   "metadata": {},
   "source": [
    "# Anlaşılmasını daha da kolaylaştırmak için veri setimizin nitelik isimlerini değiştirdik."
   ]
  },
  {
   "cell_type": "code",
   "execution_count": 50,
   "id": "046c6915",
   "metadata": {},
   "outputs": [
    {
     "name": "stdout",
     "output_type": "stream",
     "text": [
      "Sütun isimleri değiştirildikten sonra:\n"
     ]
    },
    {
     "data": {
      "text/html": [
       "<div>\n",
       "<style scoped>\n",
       "    .dataframe tbody tr th:only-of-type {\n",
       "        vertical-align: middle;\n",
       "    }\n",
       "\n",
       "    .dataframe tbody tr th {\n",
       "        vertical-align: top;\n",
       "    }\n",
       "\n",
       "    .dataframe thead th {\n",
       "        text-align: right;\n",
       "    }\n",
       "</style>\n",
       "<table border=\"1\" class=\"dataframe\">\n",
       "  <thead>\n",
       "    <tr style=\"text-align: right;\">\n",
       "      <th></th>\n",
       "      <th>yağış</th>\n",
       "      <th>maksimum sıcaklık</th>\n",
       "      <th>Minimum sıcaklık</th>\n",
       "      <th>Rüzgar</th>\n",
       "      <th>Hava durumu</th>\n",
       "    </tr>\n",
       "  </thead>\n",
       "  <tbody>\n",
       "    <tr>\n",
       "      <th>0</th>\n",
       "      <td>0.0</td>\n",
       "      <td>12.8</td>\n",
       "      <td>5.0</td>\n",
       "      <td>4.7</td>\n",
       "      <td>0</td>\n",
       "    </tr>\n",
       "    <tr>\n",
       "      <th>1</th>\n",
       "      <td>10.9</td>\n",
       "      <td>10.6</td>\n",
       "      <td>2.8</td>\n",
       "      <td>4.5</td>\n",
       "      <td>2</td>\n",
       "    </tr>\n",
       "    <tr>\n",
       "      <th>2</th>\n",
       "      <td>0.8</td>\n",
       "      <td>11.7</td>\n",
       "      <td>7.2</td>\n",
       "      <td>2.3</td>\n",
       "      <td>2</td>\n",
       "    </tr>\n",
       "    <tr>\n",
       "      <th>3</th>\n",
       "      <td>20.3</td>\n",
       "      <td>12.2</td>\n",
       "      <td>5.6</td>\n",
       "      <td>4.7</td>\n",
       "      <td>2</td>\n",
       "    </tr>\n",
       "    <tr>\n",
       "      <th>4</th>\n",
       "      <td>1.3</td>\n",
       "      <td>8.9</td>\n",
       "      <td>2.8</td>\n",
       "      <td>6.1</td>\n",
       "      <td>2</td>\n",
       "    </tr>\n",
       "    <tr>\n",
       "      <th>...</th>\n",
       "      <td>...</td>\n",
       "      <td>...</td>\n",
       "      <td>...</td>\n",
       "      <td>...</td>\n",
       "      <td>...</td>\n",
       "    </tr>\n",
       "    <tr>\n",
       "      <th>1456</th>\n",
       "      <td>8.6</td>\n",
       "      <td>4.4</td>\n",
       "      <td>1.7</td>\n",
       "      <td>2.9</td>\n",
       "      <td>2</td>\n",
       "    </tr>\n",
       "    <tr>\n",
       "      <th>1457</th>\n",
       "      <td>1.5</td>\n",
       "      <td>5.0</td>\n",
       "      <td>1.7</td>\n",
       "      <td>1.3</td>\n",
       "      <td>2</td>\n",
       "    </tr>\n",
       "    <tr>\n",
       "      <th>1458</th>\n",
       "      <td>0.0</td>\n",
       "      <td>7.2</td>\n",
       "      <td>0.6</td>\n",
       "      <td>2.6</td>\n",
       "      <td>1</td>\n",
       "    </tr>\n",
       "    <tr>\n",
       "      <th>1459</th>\n",
       "      <td>0.0</td>\n",
       "      <td>5.6</td>\n",
       "      <td>-1.0</td>\n",
       "      <td>3.4</td>\n",
       "      <td>4</td>\n",
       "    </tr>\n",
       "    <tr>\n",
       "      <th>1460</th>\n",
       "      <td>0.0</td>\n",
       "      <td>5.6</td>\n",
       "      <td>-2.1</td>\n",
       "      <td>3.5</td>\n",
       "      <td>4</td>\n",
       "    </tr>\n",
       "  </tbody>\n",
       "</table>\n",
       "<p>1461 rows × 5 columns</p>\n",
       "</div>"
      ],
      "text/plain": [
       "      yağış  maksimum sıcaklık  Minimum sıcaklık  Rüzgar  Hava durumu\n",
       "0       0.0               12.8               5.0     4.7            0\n",
       "1      10.9               10.6               2.8     4.5            2\n",
       "2       0.8               11.7               7.2     2.3            2\n",
       "3      20.3               12.2               5.6     4.7            2\n",
       "4       1.3                8.9               2.8     6.1            2\n",
       "...     ...                ...               ...     ...          ...\n",
       "1456    8.6                4.4               1.7     2.9            2\n",
       "1457    1.5                5.0               1.7     1.3            2\n",
       "1458    0.0                7.2               0.6     2.6            1\n",
       "1459    0.0                5.6              -1.0     3.4            4\n",
       "1460    0.0                5.6              -2.1     3.5            4\n",
       "\n",
       "[1461 rows x 5 columns]"
      ]
     },
     "execution_count": 50,
     "metadata": {},
     "output_type": "execute_result"
    }
   ],
   "source": [
    "# Sütun ismini değiştirme\n",
    "turkcelesmisveriseti = weather_data.rename(columns={'precipitation': 'yağış', 'temp_max': 'maksimum sıcaklık',\"temp_min\":\"Minimum sıcaklık\",\"wind\":\"Rüzgar\",\"weather\":\"Hava durumu\"})\n",
    "\n",
    "print(\"Sütun isimleri değiştirildikten sonra:\")\n",
    "turkcelesmisveriseti"
   ]
  },
  {
   "cell_type": "markdown",
   "id": "b5758f89",
   "metadata": {},
   "source": [
    "# VERI GORSELLEŞTİRME"
   ]
  },
  {
   "cell_type": "markdown",
   "id": "3e65ed1c",
   "metadata": {},
   "source": [
    "# Veri görselleştirmek için gerekli olan kütüphanelerin yüklenmesi"
   ]
  },
  {
   "cell_type": "code",
   "execution_count": 51,
   "id": "7145d275",
   "metadata": {},
   "outputs": [
    {
     "name": "stdout",
     "output_type": "stream",
     "text": [
      "Requirement already satisfied: matplotlib in c:\\users\\monster\\anaconda3\\lib\\site-packages (3.5.1)\n",
      "Requirement already satisfied: seaborn in c:\\users\\monster\\anaconda3\\lib\\site-packages (0.11.2)\n",
      "Requirement already satisfied: pillow>=6.2.0 in c:\\users\\monster\\anaconda3\\lib\\site-packages (from matplotlib) (9.0.1)\n",
      "Requirement already satisfied: pyparsing>=2.2.1 in c:\\users\\monster\\anaconda3\\lib\\site-packages (from matplotlib) (3.0.4)\n",
      "Requirement already satisfied: cycler>=0.10 in c:\\users\\monster\\anaconda3\\lib\\site-packages (from matplotlib) (0.11.0)\n",
      "Requirement already satisfied: fonttools>=4.22.0 in c:\\users\\monster\\anaconda3\\lib\\site-packages (from matplotlib) (4.25.0)\n",
      "Requirement already satisfied: python-dateutil>=2.7 in c:\\users\\monster\\anaconda3\\lib\\site-packages (from matplotlib) (2.8.2)\n",
      "Requirement already satisfied: kiwisolver>=1.0.1 in c:\\users\\monster\\anaconda3\\lib\\site-packages (from matplotlib) (1.3.2)\n",
      "Requirement already satisfied: numpy>=1.17 in c:\\users\\monster\\anaconda3\\lib\\site-packages (from matplotlib) (1.21.5)\n",
      "Requirement already satisfied: packaging>=20.0 in c:\\users\\monster\\anaconda3\\lib\\site-packages (from matplotlib) (21.3)\n",
      "Requirement already satisfied: pandas>=0.23 in c:\\users\\monster\\anaconda3\\lib\\site-packages (from seaborn) (1.4.2)\n",
      "Requirement already satisfied: scipy>=1.0 in c:\\users\\monster\\anaconda3\\lib\\site-packages (from seaborn) (1.7.3)\n",
      "Requirement already satisfied: pytz>=2020.1 in c:\\users\\monster\\anaconda3\\lib\\site-packages (from pandas>=0.23->seaborn) (2021.3)\n",
      "Requirement already satisfied: six>=1.5 in c:\\users\\monster\\anaconda3\\lib\\site-packages (from python-dateutil>=2.7->matplotlib) (1.16.0)\n"
     ]
    }
   ],
   "source": [
    "! pip install matplotlib seaborn \n",
    "\n"
   ]
  },
  {
   "cell_type": "markdown",
   "id": "97ae7711",
   "metadata": {},
   "source": [
    "# Yağış Dağılımındaki Aykırı Verileri Gösteren Kutu Grafik : \n",
    "\n",
    "\n"
   ]
  },
  {
   "cell_type": "code",
   "execution_count": 52,
   "id": "cc218a32",
   "metadata": {},
   "outputs": [
    {
     "data": {
      "image/png": "[encoded data removed]",
      "text/plain": [
       "<Figure size 576x432 with 1 Axes>"
      ]
     },
     "metadata": {
      "needs_background": "light"
     },
     "output_type": "display_data"
    }
   ],
   "source": [
    "import pandas as pd\n",
    "import matplotlib.pyplot as plt\n",
    "import seaborn as sns\n",
    "\n",
    "plt.figure(figsize=(8, 6))\n",
    "sns.boxplot(x=turkcelesmisveriseti['yağış'])\n",
    "plt.title(\"Yağış niteliğindeki aykırı verileri gösteren grafik\")\n",
    "plt.xlabel(\"Yağış\")\n",
    "plt.show()\n"
   ]
  },
  {
   "cell_type": "markdown",
   "id": "19af0188",
   "metadata": {},
   "source": [
    "# Çıkarımlar\n",
    "\n",
    "## 1.) Bu grafikte alt sınır 0'dır.\n",
    "\n",
    "## 2.) Bu grafikte ise üst sınır yaklaşık olarak 0.1'e karşılık gelmektedir.\n",
    "\n",
    "## 3.) Üst sınırın üstünde ise bizim veri setimizin yağış niteliğindeki aykırı verilerimiz karşılamaktadır.\n",
    "\n",
    "## 4.)Bizim kutu grafiğimizin başlangıç noktası aynı zamanda veri setimizdeki 1.çeyreğ'in başlangıç kısmıdır ve kutu grafiğimizin bitiş kısmı veri setimizin 3.çeyrek kısmının başlangıç kısmıdır."
   ]
  },
  {
   "cell_type": "markdown",
   "id": "ad5d5829",
   "metadata": {},
   "source": [
    "# Verisetinde rüzgar hızı niteliği altındaki aykırı verileri gösteren grafik\n"
   ]
  },
  {
   "cell_type": "code",
   "execution_count": 53,
   "id": "b447c19f",
   "metadata": {},
   "outputs": [
    {
     "data": {
      "image/png": "[encoded data removed]",
      "text/plain": [
       "<Figure size 576x432 with 1 Axes>"
      ]
     },
     "metadata": {
      "needs_background": "light"
     },
     "output_type": "display_data"
    }
   ],
   "source": [
    "plt.figure(figsize=(8, 6))\n",
    "sns.boxplot(x=turkcelesmisveriseti['Rüzgar'])\n",
    "plt.title(\"Verisetinde rüzgar hızı niteliği altındaki aykırı verileri gösteren grafik\")\n",
    "plt.xlabel(\"Rüzgar Hızı(km/h)\")\n",
    "plt.show()"
   ]
  },
  {
   "cell_type": "markdown",
   "id": "ab95bb87",
   "metadata": {},
   "source": [
    "# Çıkarımlar : \n",
    "\n",
    "## 1.) Bu grafikte alt sınır ve üst sınır yaklaşık olarak 0.7 olarak tespit edilmiştir.\n",
    "\n",
    "## 2.) Buradaki kutu grafiğimizin 1.çeyrek değeri 0.2'ye,2.çeyrek yani medyan değeri yaklaşık olarak 0.3'e denk gelmektedir.\n",
    "\n",
    "## 3.)Üst sınır olan 0.7(yaklaşık olarak)'nin üsttündeki veriler bizim veri setimizdeki aykırı verilerdir."
   ]
  },
  {
   "cell_type": "markdown",
   "id": "d80b7f43",
   "metadata": {},
   "source": [
    "# maksimum sıcaklık niteliği altındaki aykırı verileri gösteren grafik : "
   ]
  },
  {
   "cell_type": "code",
   "execution_count": 54,
   "id": "3b6d3c60",
   "metadata": {},
   "outputs": [
    {
     "data": {
      "image/png": "[encoded data removed]",
      "text/plain": [
       "<Figure size 576x432 with 1 Axes>"
      ]
     },
     "metadata": {
      "needs_background": "light"
     },
     "output_type": "display_data"
    }
   ],
   "source": [
    "plt.figure(figsize=(8, 6))\n",
    "sns.boxplot(x=turkcelesmisveriseti['maksimum sıcaklık'])\n",
    "plt.title(\"Verisetinde maksimum sıcaklık niteliği altındaki aykırı verileri gösteren grafik\")\n",
    "plt.xlabel(\"maksimum sıcaklık\")\n",
    "plt.show()"
   ]
  },
  {
   "cell_type": "markdown",
   "id": "615933a9",
   "metadata": {},
   "source": [
    "# Çıkarımlar \n",
    "\n",
    "## 1.) Alt sınır 0.0 ve üst sınır 1.0'dır.\n",
    "\n",
    "## 2.) 1.çeyrek değeri yaklaşık olarak 0.35,3.çeyrek değeri ise 6.5'a eşittir.\n",
    "\n",
    "## 3.) Bu grafiğe göre medyan ise 0.47 olarak tespit edilmiştir.\n",
    "\n",
    "## 4.) Bu grafiğe göre alt sınırın altında veya üst sınırın üstünde herhangi bir aykırı veri bulunmamaktadır."
   ]
  },
  {
   "cell_type": "markdown",
   "id": "1f761553",
   "metadata": {},
   "source": [
    "\n",
    "# Korelasyon Isı Haritası:\n",
    "\n",
    "## Korelasyon ısı haritası;veri setimizdeki nitelikler arasındaki ilişkiler hakkında yorum yapmamızı sağlayan grafiktir.Biz bu grafikten yararlanarak en güçlü yada en zayıf ilişkiler hangi nitelikler arasında var bunu öğrenebiliriz."
   ]
  },
  {
   "cell_type": "code",
   "execution_count": 55,
   "id": "f0aa7d3d",
   "metadata": {},
   "outputs": [
    {
     "data": {
      "image/png": "[encoded data removed]",
      "text/plain": [
       "<Figure size 720x576 with 2 Axes>"
      ]
     },
     "metadata": {
      "needs_background": "light"
     },
     "output_type": "display_data"
    }
   ],
   "source": [
    "# Select only numeric columns\n",
    "numeric_df = turkcelesmisveriseti.select_dtypes(include='number')\n",
    "\n",
    "# Plot the heatmap with numeric data only\n",
    "import matplotlib.pyplot as plt\n",
    "import seaborn as sns\n",
    "\n",
    "plt.figure(figsize=(10, 8))\n",
    "sns.heatmap(turkcelesmisveriseti.corr(), annot=True, cmap='coolwarm', fmt=\".2f\")\n",
    "plt.title(\"Correlation Heatmap\")\n",
    "plt.show()\n",
    "\n"
   ]
  },
  {
   "cell_type": "markdown",
   "id": "be8a9945",
   "metadata": {},
   "source": [
    "# Çıkarımlar :\n",
    "\n",
    "## Öncelikle şunu iyi bilmeliyiz ki,-1 'e yakın değerlerde negatif yönlübir ilişki vardır,1'e yakın değerlerde ise pozitif yönlü bir ilişki vardır ama 0'a yakınsa mantıklı bir ilişkiden söz edemeyiz."
   ]
  },
  {
   "cell_type": "markdown",
   "id": "7fcd68e4",
   "metadata": {},
   "source": [
    "# Yukarıya baktığımızda max sıcaklık ve min sıcaklık arasındaki korelasyon 0.88 olarak tespit edilebilir.Yani bu değer 1'e yakın bir değer olduğu için min ve max sıcaklık arasında pozitif bir korelasyon olduğu sonucuna varabilriz.Bunutest etmek için isterseniz bir nokta grafik çizelim..."
   ]
  },
  {
   "cell_type": "markdown",
   "id": "0a3791f2",
   "metadata": {},
   "source": [
    "# Max ve min sıcaklık arasındaki ilişkiyi gösteren nokta grafik"
   ]
  },
  {
   "cell_type": "code",
   "execution_count": 56,
   "id": "a84f6c0a",
   "metadata": {},
   "outputs": [
    {
     "data": {
      "image/png": "[encoded data removed]",
      "text/plain": [
       "<Figure size 576x432 with 1 Axes>"
      ]
     },
     "metadata": {
      "needs_background": "light"
     },
     "output_type": "display_data"
    }
   ],
   "source": [
    "plt.figure(figsize=(8, 6))\n",
    "sns.scatterplot(x=turkcelesmisveriseti['maksimum sıcaklık'], y=turkcelesmisveriseti['Minimum sıcaklık'])\n",
    "plt.title(\"Max ve Min Sıcaklık Arasındaki İlişkiyi Gösteren Grafik\")\n",
    "plt.xlabel(\"maksimum sıcaklık\")\n",
    "plt.ylabel(\"minimum sıcaklık\")\n",
    "plt.show()\n"
   ]
  },
  {
   "cell_type": "markdown",
   "id": "8fbc4812",
   "metadata": {},
   "source": [
    "# Model eğitimi ve öodelin doğruluğunun test edilmesi için gerekli olan kütüphanelerin projeye dahil edilmesi"
   ]
  },
  {
   "cell_type": "code",
   "execution_count": 57,
   "id": "2744bbc9",
   "metadata": {},
   "outputs": [],
   "source": [
    "# Doğruluk oranını görüntüleyebilmem için gerekli olan accuracy_score parametresinin import edilmesi\n",
    " \n",
    "from sklearn.metrics import accuracy_score\n",
    "\n",
    "from sklearn.tree import DecisionTreeClassifier"
   ]
  },
  {
   "cell_type": "markdown",
   "id": "c11e5513",
   "metadata": {},
   "source": [
    "# Stratified K Fold Cross Validation İşlemini Uygulayarak Veri setini Uygun Şekilde Bölünmesi Ve her Bir Katmanda Modeli Eğitip Test etme işleminin Yapılması"
   ]
  },
  {
   "cell_type": "markdown",
   "id": "0ba7c9c3",
   "metadata": {},
   "source": [
    "# Veri setimizin özellikler ve hedef değişken olarak bölünmesi"
   ]
  },
  {
   "cell_type": "code",
   "execution_count": 58,
   "id": "af409541",
   "metadata": {},
   "outputs": [],
   "source": [
    "\n",
    "# Hedef değişkenin belirlenmesi\n",
    "target_column = 'weather'\n",
    "# Veri seti'nin özellikler (X) ve hedef değişken (y) olarak ayır\n",
    "X = weather_data.drop(columns=[target_column])\n",
    "y = weather_data[target_column]\n",
    "\n",
    "\n",
    "\n"
   ]
  },
  {
   "cell_type": "markdown",
   "id": "99c226f1",
   "metadata": {},
   "source": [
    "# Stratified K-Fold Cross Validation Nesnesinin Oluşturulması"
   ]
  },
  {
   "cell_type": "code",
   "execution_count": 59,
   "id": "572f0b3f",
   "metadata": {},
   "outputs": [],
   "source": [
    "# nsplits : cross validation katman sayısı(kaç katmanlı bir cross validation işelmi yapacağız.)\n",
    "\n",
    "# shuffle true değerine eşitse cross validation işleminin her katmanında veri seti karıştırılacak demektir.\n",
    "\n",
    "# random state belirleyip aynı rastgele karıştırma işlemini elde ederek modelin eğitim süreci'nin aynı şekilde tekrarlanabilir olmasını sağlar\n",
    "\n",
    "from sklearn.model_selection import StratifiedKFold\n",
    "\n",
    "\n",
    "stratified_k_fold_cross_validation_nesnesi = StratifiedKFold(n_splits=5, shuffle=True, random_state=42)\n",
    "\n"
   ]
  },
  {
   "cell_type": "markdown",
   "id": "a07df8c7",
   "metadata": {},
   "source": [
    "# Her katman için ayrı cross validation yapılması"
   ]
  },
  {
   "cell_type": "code",
   "execution_count": 73,
   "id": "7b0b495c",
   "metadata": {},
   "outputs": [
    {
     "name": "stdout",
     "output_type": "stream",
     "text": [
      "Accuracy: 0.7542662116040956\n",
      "Accuracy: 0.7226027397260274\n",
      "Accuracy: 0.7397260273972602\n",
      "Accuracy: 0.7636986301369864\n",
      "Accuracy: 0.7773972602739726\n"
     ]
    }
   ],
   "source": [
    "# Karar ağaçlar algoritması için modelin oluşturulması\n",
    "\n",
    "dt_classifier = DecisionTreeClassifier()\n",
    "\n",
    "# Her bir k katmanında cross-validation işleminin yapılması\n",
    "for train_index, test_index in stratified_k_fold_cross_validation_nesnesi.split(X, y):\n",
    "    X_train, X_test = X.iloc[train_index], X.iloc[test_index]\n",
    "    y_train, y_test = y.iloc[train_index], y.iloc[test_index]\n",
    "\n",
    "\n",
    "    \n",
    "    # Modelin eğitilmesi\n",
    "\n",
    "    dt_classifier.fit(X_train, y_train)\n",
    "    \n",
    "    # Modeli test etme ve performans analizi yapma\n",
    "    predictions = dt_classifier.predict(X_test)\n",
    "    accuracy = accuracy_score(y_test, predictions)\n",
    "    print(\"Accuracy:\", accuracy)"
   ]
  },
  {
   "cell_type": "markdown",
   "id": "72db316a",
   "metadata": {},
   "source": [
    "# Random forest sınıflandırma algoritması ile modelin eğitilmesi,tahmin yaptırılması ve doğrulukm skorunun bulunması"
   ]
  },
  {
   "cell_type": "code",
   "execution_count": 61,
   "id": "80798855",
   "metadata": {},
   "outputs": [
    {
     "name": "stdout",
     "output_type": "stream",
     "text": [
      "Doğruluk Oranı : 0.8424657534246576\n"
     ]
    }
   ],
   "source": [
    "# Sınıflamdırma için random forest classifier sınıfına projeye import edilmesi\n",
    "\n",
    "from sklearn.ensemble import RandomForestClassifier\n",
    "\n",
    "# Random forest sınıflandırma algoritması ile eğitilecek modelin oluşturulması\n",
    "\n",
    "randomforestmodel = RandomForestClassifier()\n",
    "\n",
    "# Modelimizin eğitilmesi\n",
    "\n",
    "randomforestmodel.fit(X_train,y_train)\n",
    "\n",
    "# Modelimize tahmin yaptırılması\n",
    "\n",
    "tahminsonucları = randomforestmodel.predict(X_test)\n",
    "\n",
    "dogrulukrf = accuracy_score(y_test,tahminsonucları)\n",
    "\n",
    "print(\"Doğruluk Oranı : \" + str(dogrulukrf))"
   ]
  },
  {
   "cell_type": "markdown",
   "id": "83f9c765",
   "metadata": {},
   "source": [
    "# Modelin performanısının değerlendirilip yorumlanması"
   ]
  },
  {
   "cell_type": "markdown",
   "id": "6ebdbbfe",
   "metadata": {},
   "source": [
    "0 değerine sahip olan sayısal etiket, 'drizzle' kategorik etikete aittir.\n",
    "\n",
    "2 değerine sahip olan sayısal etiket, 'fog' kategorik etikete aittir.\n",
    "\n",
    "4 değerine sahip olan sayısal etiket, 'rain' kategorik etikete aittir.\n",
    "\n",
    "3 değerine sahip olan sayısal etiket, 'snow' kategorik etikete aittir.\n",
    "\n",
    "1 değerine sahip olan sayısal etiket, 'sun' kategorik etikete aittir."
   ]
  },
  {
   "cell_type": "code",
   "execution_count": 62,
   "id": "184a1363",
   "metadata": {},
   "outputs": [
    {
     "name": "stdout",
     "output_type": "stream",
     "text": [
      "              precision    recall  f1-score   support\n",
      "\n",
      "           0       0.17      0.10      0.12        10\n",
      "           1       0.27      0.15      0.19        20\n",
      "           2       0.97      0.95      0.96       128\n",
      "           3       0.67      0.67      0.67         6\n",
      "           4       0.81      0.91      0.86       128\n",
      "\n",
      "    accuracy                           0.84       292\n",
      "   macro avg       0.58      0.56      0.56       292\n",
      "weighted avg       0.82      0.84      0.83       292\n",
      "\n"
     ]
    }
   ],
   "source": [
    "# Evaluate the model\n",
    "\n",
    "from sklearn.metrics import classification_report\n",
    "\n",
    "print(classification_report(y_test, tahminsonucları))\n",
    "\n"
   ]
  },
  {
   "cell_type": "markdown",
   "id": "4828266f",
   "metadata": {},
   "source": [
    "Precision (Kesinlik): Precision, pozitif sonuçların ne kadarının gerçekten pozitif olduğunu gösterir. Yani, doğru pozitiflerin toplam pozitif tahminlere oranıdır. Örneğin, sınıf drizzle precision 0.20 dir, modelin sınıf 0 olarak tahmin ettiği gözlemlerin yalnızca %20'sinin gerçekten drizzle olduğu anlamına gelir.\n",
    "\n",
    "Recall (Duyarlılık): Recall, gerçek pozitiflerin ne kadarının rastgele orman algoritması tarafından doğru bir şekilde tanımlandığını gösterir. Yani, doğru pozitiflerin gerçek pozitifler içindeki oranıdır. Örneğin, sun için recall 0.12 ise, gerçek sun gözlemlerinin yalnızca %12'sinin model tarafından doğru bir şekilde tanımlandığı anlamına gelir.\n",
    "\n",
    "F1-score: F1-score, precision ve recall metriklerinin harmonik ortalamasını temsil eder. Bu, precision ve recall arasında bir denge sağlar. F1-score ne kadar yüksekse, modelin performansının o kadar iyi olduğu düşünülür. F1-score, precision ve recall değerlerinin dengeli olduğu durumlarda yüksektir.\n",
    "\n",
    "Support (Destek): Support, her bir sınıf için gerçek değerlerin sayısını temsil eder. Yani, her sınıf için kaç tane gözlem olduğunu gösterir.\n",
    "\n",
    "Accuracy (Doğruluk): Accuracy, modelin doğru tahmin ettiği toplam gözlem sayısının, tüm gözlem sayısına oranını gösterir. Yani, doğru tahmin edilen gözlemlerin tüm gözlemlere oranıdır.\n",
    "\n",
    "Macro Average ve Weighted Average: Macro avg, her sınıfın metriklerinin (precision, recall, f1-score) ortalamasını alırken, weighted avg, sınıf sayısına göre ağırlıklı ortalama alır."
   ]
  },
  {
   "cell_type": "markdown",
   "id": "0177c025",
   "metadata": {},
   "source": [
    "# KNN(En Yakın Komşu) Algoritması İle Modelimizin Eğitilmesi ve doğruluk oranının bulunması "
   ]
  },
  {
   "cell_type": "code",
   "execution_count": 63,
   "id": "f4bfa08f",
   "metadata": {},
   "outputs": [
    {
     "name": "stdout",
     "output_type": "stream",
     "text": [
      "Doğruluk Oranı : 0.7681159420289855\n"
     ]
    }
   ],
   "source": [
    "\n",
    "from sklearn.ensemble import RandomForestClassifier\n",
    "from sklearn.model_selection import train_test_split\n",
    "from sklearn.neighbors import KNeighborsClassifier\n",
    "\n",
    "# Test ve eğitim verisi olarak hedef değişken ve özelliklerin ayrılması\n",
    "\n",
    "X_train, X_test, y_train, y_test = train_test_split(X, y, test_size=0.33, random_state=42)\n",
    "\n",
    "# En yakın komşu sınıflandırma algortması için modelin tanımlanması\n",
    "\n",
    "# en yakın 5 komşunun etiketlerinin göz önünde bulundurulması\n",
    "\n",
    "enyakinkomsumodeli = KNeighborsClassifier(n_neighbors=5)\n",
    "\n",
    "# En yakın komsu algortması ile modelin eğitilmesi\n",
    "\n",
    "enyakinkomsumodeli.fit(X_train,y_train)\n",
    "\n",
    "# Modelimize tahmin yaptırılması\n",
    "\n",
    "tahminsonucları = enyakinkomsumodeli.predict(X_test)\n",
    "\n",
    "dogrulukknn = accuracy_score(y_test,tahminsonucları)\n",
    "\n",
    "print(\"Doğruluk Oranı : \" + str(dogrulukknn))\n",
    "\n"
   ]
  },
  {
   "cell_type": "markdown",
   "id": "57ca2f01",
   "metadata": {},
   "source": [
    "# KNN(En Yakın Komşu) ve Random Forest Algoritmaları'nın Grafik üzerinde Karşılaştırılması"
   ]
  },
  {
   "cell_type": "code",
   "execution_count": 64,
   "id": "2aca3c4b",
   "metadata": {},
   "outputs": [
    {
     "data": {
      "image/png": "[encoded data removed]",
      "text/plain": [
       "<Figure size 432x288 with 1 Axes>"
      ]
     },
     "metadata": {
      "needs_background": "light"
     },
     "output_type": "display_data"
    }
   ],
   "source": [
    "# Grafik oluşturma\n",
    "models = ['Random Forest', 'KNN']\n",
    "accuracies = [dogrulukrf, dogrulukknn]\n",
    "\n",
    "plt.bar(models, accuracies, color=['black', 'green'])\n",
    "plt.xlabel('Modeller')\n",
    "plt.ylabel('Doğruluk oranları')\n",
    "plt.title('MODELLERİN KARŞILAŞTIRILMASI')\n",
    "plt.ylim(0.0, 1.0) # Y ekseninin aralığını ayarlama (0 ile 100 arası)\n",
    "plt.show()"
   ]
  },
  {
   "cell_type": "markdown",
   "id": "6c665946",
   "metadata": {},
   "source": [
    "# Roc eğrisi grafiği\n"
   ]
  },
  {
   "cell_type": "markdown",
   "id": "2930685a",
   "metadata": {},
   "source": [
    "# ROC eğrisi, sınıflandırma modelinin performansını değerlendirmek için kullanılan bir grafiktir, özellikle sınıflandırma modelinin duyarlılığı ve özgüllüğünün değişimini gösterir."
   ]
  },
  {
   "cell_type": "markdown",
   "id": "e387bce2",
   "metadata": {},
   "source": [
    "# Roc eğrisinin çizdirilmesi için gerekli olan kütüphanlerin projeye import edilmesi"
   ]
  },
  {
   "cell_type": "code",
   "execution_count": 65,
   "id": "0244c167",
   "metadata": {},
   "outputs": [],
   "source": [
    "from sklearn.metrics import roc_curve, auc\n",
    "from sklearn.preprocessing import label_binarize\n",
    "from sklearn.multiclass import OneVsRestClassifier\n",
    "import matplotlib.pyplot as plt\n",
    "import numpy as np"
   ]
  },
  {
   "cell_type": "markdown",
   "id": "ae76b5f7",
   "metadata": {},
   "source": [
    "# Özellikler kısmındaki test verilerinin arasından farklı sınıf etiketleri'nin ayrıştırılması ve bu etiketlerin 2'li vektorlere donusturulmesi"
   ]
  },
  {
   "cell_type": "code",
   "execution_count": 66,
   "id": "bb66e662",
   "metadata": {},
   "outputs": [],
   "source": [
    "# Özellikler bölümünün test verisi olarak ayrılan kısmında bulunan farklı sınıf etiketlerini ayırma\n",
    "\n",
    "classes = np.unique(y_test)\n",
    "\n",
    "# Çoklu sınıf etiketlerini 2'li vektörlere dönüştürme\n",
    "\n",
    "y_test_bin = label_binarize(y_test, classes=classes)"
   ]
  },
  {
   "cell_type": "markdown",
   "id": "943b3460",
   "metadata": {},
   "source": [
    "# en yakın komsu modelini one vs. rest stratejisi ile sararak çoklu sınıflandırma problemini 2'li sınıflandırma problemine dönüştürme\n"
   ]
  },
  {
   "cell_type": "code",
   "execution_count": 67,
   "id": "9c00f2a1",
   "metadata": {},
   "outputs": [],
   "source": [
    "# en yakın komsu modelini one vs. rest stratejisi ile sararak çoklu sınıflandırma problemini 2'li sınıflandırma problemine dönüştürür.\n",
    "ovrstrategy = OneVsRestClassifier(enyakinkomsumodeli)\n",
    "ovrstrategy.fit(X_train, y_train)\n",
    "y_probs = ovrstrategy.predict_proba(X_test)\n"
   ]
  },
  {
   "cell_type": "markdown",
   "id": "66ad0aff",
   "metadata": {},
   "source": [
    "# Tüm sınıflar için döndürülen tahminler, sınıf etiketine göre sıralanır.\n",
    "\n",
    "# Çoklu etiket durumunda her numunenin herhangi bir sayıda etiketi olabileceğini unutmayın. Bu, verilen numunenin söz konusu etikete sahip olmasının marjinal olasılığını döndürür. Örneğin, iki etiketin her ikisinin de belirli bir numuneye uygulanma olasılığının %90 olması tamamen tutarlıdır.\n",
    "\n",
    "# Tek etiketli çok sınıflı durumda, döndürülen matrisin satırlarının toplamı 1 olur."
   ]
  },
  {
   "cell_type": "markdown",
   "id": "298f9e48",
   "metadata": {},
   "source": [
    "# Roc eğrisi grafik şablonunun oluşturulması"
   ]
  },
  {
   "cell_type": "code",
   "execution_count": 68,
   "id": "ba8e3c6d",
   "metadata": {},
   "outputs": [
    {
     "data": {
      "text/plain": [
       "<Figure size 576x432 with 0 Axes>"
      ]
     },
     "execution_count": 68,
     "metadata": {},
     "output_type": "execute_result"
    },
    {
     "data": {
      "text/plain": [
       "<Figure size 576x432 with 0 Axes>"
      ]
     },
     "metadata": {},
     "output_type": "display_data"
    }
   ],
   "source": [
    "# Roc eğrisi grafik şablonunun oluşturulması\n",
    "\n",
    "plt.figure(figsize=(8, 6))"
   ]
  },
  {
   "cell_type": "markdown",
   "id": "a32d51b3",
   "metadata": {},
   "source": [
    "# Roc eğrisinin grafiğini çizdiren fonksiyonunun yazılması"
   ]
  },
  {
   "cell_type": "code",
   "execution_count": 69,
   "id": "d41ac901",
   "metadata": {},
   "outputs": [],
   "source": [
    "# y_true: Gerçek sınıf etiketlerini içeren dizidir. Bu, test setindeki gerçek sınıf etiketlerini temsil eder.\n",
    "\n",
    "# y_prob: Sınıflandırma modelinin her bir sınıfa ait olma olasılıklarını içeren bir dizi veya matristir. \n",
    "# Özellikle, bu modelin test seti için ürettiği olasılık tahminlerini içerir.\n",
    "\n",
    "# class_name: Çizilen ROC eğrisinin adını belirten bir dizedir. Bu, ilgili sınıfın adını veya bir tanımını içerebilir.\n",
    "\n",
    "# Roc eğrisini çizdiren fonksiyon'un yazılması\n",
    "def plot_roc_curve(y_true, y_prob, class_name):\n",
    "    \n",
    "    # roc_curve(y_true, y_prob): Bu işlev, ROC eğrisi için false positive rate (fpr) ve true positive rate (tpr) \n",
    "    # değerlerini hesaplar. y_true gerçek sınıf etiketlerini, y_prob ise tahmin edilen sınıf olasılıklarını içerir.\n",
    "    # _ ise roc curve fonksiyonunun döndürdüğü üçüncü değerdir.Bu değer roc eğrisi için de önemsizdir.\n",
    "\n",
    "\n",
    "    fpr, tpr , _ = roc_curve(y_true, y_prob)\n",
    "\n",
    "    # false positive rate(fpr) ve true positive rate(tpr) oranlarının yardımıyla roc eğrisinin altında kalan alan'ın hesaplanması \n",
    "\n",
    "    roc_auc = auc(fpr, tpr)\n",
    "\n",
    "    # Roc eğrisinin grafik üzerinde gösterilemesi,her sınıf etiketi için eğri çizdirilir ve auc değerleri etiket olarak bu grafiğin yanına yazdırılır\n",
    "    # Bu her sınıf etiketi için elde edile roc eğrisi fpr ve tpr ile elde edilir.\n",
    "\n",
    "    plt.plot(fpr, tpr, label=f'{class_name} (AUC = {roc_auc:.2f})')\n",
    "\n",
    "\n",
    "\n",
    "\n",
    "\n",
    "\n",
    "\n",
    "\n",
    "\n"
   ]
  },
  {
   "cell_type": "code",
   "execution_count": 70,
   "id": "a1719b03",
   "metadata": {},
   "outputs": [
    {
     "data": {
      "image/png": "[encoded data removed]",
      "text/plain": [
       "<Figure size 432x288 with 1 Axes>"
      ]
     },
     "metadata": {
      "needs_background": "light"
     },
     "output_type": "display_data"
    }
   ],
   "source": [
    "# Her class için roc eğrisinin çizdirilmesi\n",
    "\n",
    "for i,class_name in enumerate(classes):\n",
    "    plot_roc_curve(y_test_bin[:, i], y_probs[:, i], f'Class {class_name}')\n",
    "     \n",
    "   \n",
    "\n",
    "# roc eğrilerinin çizdirilmesi\n",
    "plt.plot([0, 1], [0, 1], 'k--')  \n",
    "plt.xlabel('False Positive Rate')\n",
    "plt.ylabel('True Positive Rate')\n",
    "plt.title('ROC Curve for Multiclass Classification')\n",
    "plt.legend(loc='lower right')\n",
    "plt.grid(True)\n",
    "plt.show()"
   ]
  },
  {
   "cell_type": "markdown",
   "id": "7aecda8f",
   "metadata": {},
   "source": [
    "# CONFUSION MATRİX HESAPLAMA"
   ]
  },
  {
   "cell_type": "code",
   "execution_count": 86,
   "id": "c148fc22",
   "metadata": {},
   "outputs": [
    {
     "name": "stdout",
     "output_type": "stream",
     "text": [
      "[[  1   1   0   0   8]\n",
      " [  0   7   0   0  13]\n",
      " [  1   1 123   1   2]\n",
      " [  0   0   2   4   0]\n",
      " [  8  19   9   0  92]]\n"
     ]
    },
    {
     "data": {
      "image/png": "[encoded data removed]",
      "text/plain": [
       "<Figure size 576x432 with 2 Axes>"
      ]
     },
     "metadata": {
      "needs_background": "light"
     },
     "output_type": "display_data"
    }
   ],
   "source": [
    "import seaborn as sns\n",
    "import matplotlib.pyplot as plt\n",
    "from sklearn.metrics import confusion_matrix\n",
    "\n",
    "\n",
    "\n",
    "\n",
    "\n",
    "\n",
    "\n",
    "# Confusion matrixi hesaplama\n",
    "cm = confusion_matrix(y_test, predictions)\n",
    "\n",
    "print(cm)\n",
    "\n",
    "# Confusion matrixi görselleştirme\n",
    "plt.figure(figsize=(8, 6))\n",
    "sns.heatmap(cm, annot=True, cmap='Blues', fmt='g',xticklabels=[label_encoder.classes_[0],label_encoder.classes_[1],label_encoder.classes_[2],label_encoder.classes_[3],label_encoder.classes_[4]],\n",
    "            yticklabels=[label_encoder.classes_[0],label_encoder.classes_[1],label_encoder.classes_[2],label_encoder.classes_[3],label_encoder.classes_[4]])\n",
    "plt.xlabel('Tahmin Edilen Sınıf')\n",
    "plt.ylabel('Gerçek Sınıf')\n",
    "plt.title('Confusion Matrix')\n",
    "plt.show()\n",
    "\n",
    "\n"
   ]
  },
  {
   "cell_type": "markdown",
   "id": "71f89167",
   "metadata": {},
   "source": [
    "# Her hücre, dikey eksende belirtilen gerçek sınıfa ve yatay eksende belirtilen tahmin edilen sınıfa göre modelin performansını gösterir.\n",
    "# Yanlış Tahminler:  \"drizzle\" olarak gerçek sınıfı olan verilerden 8 tanesi yanlışlıkla \"sun\" olarak tahmin edilmiş.\n",
    "# \"fog\" olarak gerçek sınıfı olan verilerden 1 tanesi yanlışlıkla \"freezing rain\" olarak tahmin edilmiş.\n",
    "# Başarılı Tahminler: Ana köşegen üzerinde yer alan sayılar (1, 7, 123, 4, 92) modelin doğru tahminlerini gösterir. Bu sayılar ne kadar yüksekse, modelin o sınıfı doğru tanıma oranı o kadar yüksek demektir."
   ]
  }
 ],
 "metadata": {
  "kernelspec": {
   "display_name": "Python 3",
   "language": "python",
   "name": "python3"
  },
  "language_info": {
   "codemirror_mode": {
    "name": "ipython",
    "version": 3
   },
   "file_extension": ".py",
   "mimetype": "text/x-python",
   "name": "python",
   "nbconvert_exporter": "python",
   "pygments_lexer": "ipython3",
   "version": "3.9.12"
  },
  "papermill": {
   "default_parameters": {},
   "duration": 5.752192,
   "end_time": "2023-10-10T12:26:14.524828",
   "environment_variables": {},
   "exception": null,
   "input_path": "__notebook__.ipynb",
   "output_path": "__notebook__.ipynb",
   "parameters": {},
   "start_time": "2023-10-10T12:26:08.772636",
   "version": "2.4.0"
  }
 },
 "nbformat": 4,
 "nbformat_minor": 5
}
